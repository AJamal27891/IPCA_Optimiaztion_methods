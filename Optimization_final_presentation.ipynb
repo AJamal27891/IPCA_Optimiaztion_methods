{
 "cells": [
  {
   "attachments": {},
   "cell_type": "markdown",
   "metadata": {},
   "source": []
  },
  {
   "cell_type": "code",
   "execution_count": 1,
   "metadata": {},
   "outputs": [],
   "source": [
    "import numpy as np\n",
    "import pandas as pd\n",
    "from sklearn.model_selection import train_test_split\n",
    "from sklearn.linear_model import SGDClassifier\n",
    "from sklearn.metrics import classification_report\n",
    "import cv2\n",
    "import os\n",
    "import glob\n",
    "\n",
    "# Define the path to the dataset\n",
    "dataset_path = r'C:\\Users\\ahmad\\OneDrive\\Desktop\\Optimizaiton project\\chest_xray\\train'\n",
    "\n",
    "# Load the dataset\n",
    "def load_data(dataset_path):\n",
    "    x = []\n",
    "    y = []\n",
    "    \n",
    "    # Load normal images\n",
    "    for img_path in glob.glob(os.path.join(dataset_path, 'Normal', '*.jpeg')):\n",
    "        img = cv2.imread(img_path, cv2.IMREAD_GRAYSCALE)\n",
    "        img = cv2.resize(img, (64, 64)).flatten()\n",
    "        x.append(img)\n",
    "        y.append(0)\n",
    "\n",
    "    # Load pneumonia images\n",
    "    for img_path in glob.glob(os.path.join(dataset_path, 'Pneumonia', '*.jpeg')):\n",
    "        img = cv2.imread(img_path, cv2.IMREAD_GRAYSCALE)\n",
    "        img = cv2.resize(img, (64, 64)).flatten()\n",
    "        x.append(img)\n",
    "        y.append(1)\n",
    "\n",
    "    return np.array(x), np.array(y)\n",
    "\n",
    "X, y = load_data(dataset_path)\n",
    "\n",
    "# Split the data into train and test sets\n",
    "X_train, X_test, y_train, y_test = train_test_split(X, y, test_size=0.2, random_state=42)\n",
    "\n"
   ]
  },
  {
   "attachments": {},
   "cell_type": "markdown",
   "metadata": {},
   "source": [
    "##    PCA using Singular Value Decomposition (PCA-SVD):"
   ]
  },
  {
   "cell_type": "code",
   "execution_count": 2,
   "metadata": {},
   "outputs": [],
   "source": [
    "from sklearn.decomposition import PCA\n",
    "\n",
    "def run_PCA_SVD(X, n_components):\n",
    "    \"\"\"\n",
    "    Pseudo Code:\n",
    "    1. Initialize the PCA model with the desired number of components.\n",
    "    2. Fit the PCA model to the data.\n",
    "    3. Transform the data to its principal components.\n",
    "    \"\"\"\n",
    "    # Initialize the PCA model\n",
    "    pca = PCA(n_components=n_components)\n",
    "\n",
    "    # Fit the model to the data\n",
    "    pca.fit(X)\n",
    "\n",
    "    # Transform the data to its principal components\n",
    "    X_pca = pca.transform(X)\n",
    "\n",
    "    return X_pca\n"
   ]
  },
  {
   "cell_type": "code",
   "execution_count": 3,
   "metadata": {},
   "outputs": [
    {
     "name": "stdout",
     "output_type": "stream",
     "text": [
      "Transformed Training Data: [[  670.59589973   741.80218269   662.40792802 ...    64.75575335\n",
      "    -13.03167937   -37.08802755]\n",
      " [ 2362.35588337 -1411.5192587    416.45878133 ...    20.46099301\n",
      "     20.42818613     4.21137117]\n",
      " [-1379.56964269 -1126.46758467  -485.43079751 ...   -53.90114477\n",
      "     50.05548714    13.37762131]\n",
      " ...\n",
      " [ -365.99615655  -639.41523654  -528.86824717 ...   -19.56579578\n",
      "     39.45965118   -30.37173481]\n",
      " [ -571.31744331  -825.36476222   139.50910308 ...   -85.05121623\n",
      "    -55.91009747    69.74468444]\n",
      " [ 1242.43454943  -589.02265583   635.21497127 ...   -63.17914106\n",
      "     56.02788043   -37.84246142]]\n",
      "Transformed Testing Data: [[-4.66160116e+02 -2.11522016e+03  3.57177181e+02 ...  1.51936679e+01\n",
      "   2.54595912e+00  8.56660161e+01]\n",
      " [-5.57276654e+02  5.63673926e+02 -1.51493392e+03 ...  1.17966670e+02\n",
      "  -2.23113506e+00 -4.74101102e+01]\n",
      " [-4.78826694e+02  4.19721499e+02  2.85799769e+02 ...  1.17921727e+01\n",
      "  -1.40702549e-01 -6.11438616e-01]\n",
      " ...\n",
      " [ 1.40123444e+03 -4.91098464e+02 -9.34298109e+02 ...  1.93988570e+01\n",
      "   6.51351336e+01  6.26059452e+01]\n",
      " [-9.88534010e+02 -2.90282576e+02 -7.09809067e+01 ... -8.53941626e+01\n",
      "  -1.40441399e+01  3.23723015e+01]\n",
      " [-7.62471022e+00  1.48906026e+02  9.66568522e+01 ...  3.47317505e+01\n",
      "  -2.71464876e+01 -7.93261655e+01]]\n"
     ]
    }
   ],
   "source": [
    "# Define the number of components\n",
    "n_components = 150  # replace this with the desired number of components\n",
    "\n",
    "# Run PCA-SVD\n",
    "X_train_pca_svd = run_PCA_SVD(X_train, n_components)\n",
    "X_test_pca_svd = run_PCA_SVD(X_test, n_components)\n",
    "\n",
    "# Print the transformed data\n",
    "print(\"Transformed Training Data:\", X_train_pca_svd)\n",
    "print(\"Transformed Testing Data:\", X_test_pca_svd)\n"
   ]
  },
  {
   "attachments": {},
   "cell_type": "markdown",
   "metadata": {},
   "source": [
    "##     Incremental PCA using Stochastic Gradient Descent (IPCA-SGD):"
   ]
  },
  {
   "cell_type": "code",
   "execution_count": 4,
   "metadata": {},
   "outputs": [],
   "source": [
    "from sklearn.decomposition import IncrementalPCA\n",
    "\n",
    "def run_IPCA_SGD(X, n_components, batch_size):\n",
    "    \"\"\"\n",
    "    Pseudo Code:\n",
    "    1. Initialize the IncrementalPCA model with the desired number of components.\n",
    "    2. Fit the model to the data in batches.\n",
    "    3. Transform the data to its principal components.\n",
    "    \"\"\"\n",
    "    # Initialize the IncrementalPCA model\n",
    "    ipca = IncrementalPCA(n_components=n_components)\n",
    "\n",
    "    # Fit the model to the data in batches\n",
    "    for i in range(0, X.shape[0], batch_size):\n",
    "        ipca.partial_fit(X[i:i+batch_size])\n",
    "\n",
    "    # Transform the data to its principal components\n",
    "    X_ipca = ipca.transform(X)\n",
    "\n",
    "    return X_ipca\n"
   ]
  },
  {
   "cell_type": "code",
   "execution_count": 5,
   "metadata": {},
   "outputs": [
    {
     "name": "stdout",
     "output_type": "stream",
     "text": [
      "Transformed Training Data: [[ 6.70597077e+02  7.41814169e+02  6.62430754e+02 ...  1.26191817e+02\n",
      "  -4.91051624e+01  1.12363371e+02]\n",
      " [ 2.36235675e+03 -1.41153194e+03  4.16428020e+02 ...  7.27884196e+00\n",
      "  -1.34037817e+01  1.01911803e+02]\n",
      " [-1.37957117e+03 -1.12646722e+03 -4.85467674e+02 ...  5.84392353e+01\n",
      "   1.18043803e+02 -2.97946024e+01]\n",
      " ...\n",
      " [-3.65998125e+02 -6.39403020e+02 -5.28900404e+02 ... -2.03731298e+00\n",
      "   8.63158486e+01 -5.87695138e+01]\n",
      " [-5.71316263e+02 -8.25371336e+02  1.39488244e+02 ... -1.78949814e+01\n",
      "  -4.10320204e+01 -7.83044510e+01]\n",
      " [ 1.24243184e+03 -5.89019326e+02  6.35221318e+02 ... -5.02663239e+01\n",
      "   9.71800906e+01 -1.40131025e+02]]\n",
      "Transformed Testing Data: [[ -466.15704302 -2115.22657768  -357.18495015 ...   108.8926501\n",
      "     22.36605014   -10.80149685]\n",
      " [ -557.26922712   563.69254469  1514.97953047 ...  -221.10992806\n",
      "    100.04764702    48.29789557]\n",
      " [ -478.8274571    419.74858325  -285.76488528 ...    46.86618086\n",
      "    -18.70076215    14.63181687]\n",
      " ...\n",
      " [ 1401.24025943  -491.06408839   934.28103578 ...    28.87674752\n",
      "   -148.29227376   -24.95103018]\n",
      " [ -988.53838324  -290.23980922    70.97706566 ...   -76.4207248\n",
      "   -233.9902987     75.42176407]\n",
      " [   -7.6264914    148.91561      -96.61603979 ...    69.42028989\n",
      "    -75.98340003   177.25186747]]\n"
     ]
    }
   ],
   "source": [
    "# Define the batch size\n",
    "batch_size = 200  \n",
    "n_components = 44 # this is the maximum number of component the SGD will accept \n",
    "# Run IPCA-SGD\n",
    "X_train_ipca_sgd = run_IPCA_SGD(X_train, n_components, batch_size)\n",
    "X_test_ipca_sgd = run_IPCA_SGD(X_test, n_components, batch_size)\n",
    "\n",
    "# Print the transformed data\n",
    "print(\"Transformed Training Data:\", X_train_ipca_sgd)\n",
    "print(\"Transformed Testing Data:\", X_test_ipca_sgd)\n"
   ]
  },
  {
   "attachments": {},
   "cell_type": "markdown",
   "metadata": {},
   "source": [
    "##     Candid Covariance-free IPCA (CCIPCA):"
   ]
  },
  {
   "cell_type": "code",
   "execution_count": 6,
   "metadata": {},
   "outputs": [],
   "source": [
    "from CCIPCA import CCIPCA\n",
    "n_components = 150\n",
    "\n",
    "def run_CCIPCA(X, n_components):\n",
    "    \"\"\"\n",
    "    Pseudo Code:\n",
    "    1. Initialize the PCA model with the desired number of components.\n",
    "    2. Fit the PCA model to the data.\n",
    "    3. Transform the data to its principal components.\n",
    "    \"\"\"\n",
    "    # Initialize the PCA model\n",
    "    ccipca = CCIPCA(n_components=n_components)\n",
    "\n",
    "    # Fit the model to the data\n",
    "    ccipca.fit(X)\n",
    "\n",
    "    # Transform the data to its principal components\n",
    "    X_pca = ccipca.transform(X)\n",
    "\n",
    "    return X_pca"
   ]
  },
  {
   "cell_type": "code",
   "execution_count": 7,
   "metadata": {},
   "outputs": [
    {
     "name": "stdout",
     "output_type": "stream",
     "text": [
      "Transformed Training Data: [[-3883.51908789 -1021.33950493  -633.96594591 ...    50.57361129\n",
      "     67.03316394    50.88076379]\n",
      " [-1719.06952582   261.80296463  -735.61559619 ...   -55.65324865\n",
      "    -63.63180508    12.68567751]\n",
      " [-5135.79005862  1496.63663692   415.78030959 ...  -132.20002887\n",
      "     20.44455957   -47.32830659]\n",
      " ...\n",
      " [-4253.55310056   746.39330806   477.1358679  ...    68.44690784\n",
      "    -88.35249164    99.87281054]\n",
      " [-4500.44685926   908.26298944  -200.63006689 ...    14.25919139\n",
      "     12.42871429     5.45072423]\n",
      " [-2913.07518212    -6.25891355  -760.47898652 ...    79.78341308\n",
      "     36.43473272    99.94163922]]\n",
      "Transformed Testing Data: [[-3.65348983e+03  2.16904723e+03 -4.04420756e+02 ... -3.60421420e+01\n",
      "   1.35335317e+02 -6.92891125e+01]\n",
      " [-5.13861578e+03 -4.72837704e+02  1.42292689e+03 ...  3.30234079e+01\n",
      "  -1.84222088e+02  1.45469159e+02]\n",
      " [-4.71649953e+03 -2.72485939e+02 -3.44036590e+02 ... -6.08397053e+01\n",
      "  -1.26419815e+02 -1.36748796e+01]\n",
      " ...\n",
      " [-2.89482255e+03 -1.73501172e+02  1.16566592e+03 ... -2.01041126e+01\n",
      "  -1.10245828e+02 -3.87144685e+01]\n",
      " [-4.93440550e+03  6.04660324e+02 -9.30697164e+01 ... -1.06519306e+00\n",
      "   6.97104090e+01  2.80370342e+02]\n",
      " [-4.20526384e+03 -1.89096628e+02 -1.24993323e+02 ...  1.05108680e+02\n",
      "  -2.64213774e+01  7.33602838e+01]]\n"
     ]
    }
   ],
   "source": [
    "# Run CCIPCA\n",
    "\n",
    "X_train_ccipca = run_CCIPCA(X_train, n_components)\n",
    "X_test_ccipca = run_CCIPCA(X_test, n_components)\n",
    "\n",
    "# Print the transformed data\n",
    "print(\"Transformed Training Data:\", X_train_ccipca)\n",
    "print(\"Transformed Testing Data:\", X_test_ccipca)\n"
   ]
  },
  {
   "attachments": {},
   "cell_type": "markdown",
   "metadata": {},
   "source": [
    "## Principal Component Analysis (PCA) using Recursive Regularized Least Squares Algorithm (RRLSA). "
   ]
  },
  {
   "cell_type": "code",
   "execution_count": 8,
   "metadata": {},
   "outputs": [],
   "source": [
    "from IPCA_RLS import IPCA_RLS\n",
    "\n",
    "n_components = 150\n",
    "\n",
    "def run_IPCA_RLS(X, n_components):\n",
    "    \"\"\"\n",
    "    Pseudo Code:\n",
    "    1. Initialize the PCA model with the desired number of components.\n",
    "    2. Fit the PCA model to the data.\n",
    "    3. Transform the data to its principal components.\n",
    "    \"\"\"\n",
    "    # Initialize the PCA model\n",
    "    pcca_rls = IPCA_RLS(n_components=n_components)\n",
    "\n",
    "    # Fit the model to the data\n",
    "    pcca_rls.fit(X)\n",
    "\n",
    "    # Transform the data to its principal components\n",
    "    X_pca = pcca_rls.transform(X)\n",
    "\n",
    "    return X_pca\n"
   ]
  },
  {
   "cell_type": "code",
   "execution_count": 9,
   "metadata": {},
   "outputs": [],
   "source": [
    "X_train_ccipca = run_IPCA_RLS(X_train, n_components)\n",
    "X_test_ccipca = run_IPCA_RLS(X_test, n_components)\n",
    "\n",
    "# Print the transformed data\n",
    "print(\"Transformed Training Data:\", X_train_ccipca)\n",
    "print(\"Transformed Testing Data:\", X_test_ccipca)\n"
   ]
  }
 ],
 "metadata": {
  "kernelspec": {
   "display_name": "Python 3",
   "language": "python",
   "name": "python3"
  },
  "language_info": {
   "codemirror_mode": {
    "name": "ipython",
    "version": 3
   },
   "file_extension": ".py",
   "mimetype": "text/x-python",
   "name": "python",
   "nbconvert_exporter": "python",
   "pygments_lexer": "ipython3",
   "version": "3.9.13"
  },
  "orig_nbformat": 4
 },
 "nbformat": 4,
 "nbformat_minor": 2
}
